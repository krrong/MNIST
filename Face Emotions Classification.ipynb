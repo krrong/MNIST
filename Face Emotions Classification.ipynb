{
 "cells": [
  {
   "cell_type": "markdown",
   "metadata": {
    "id": "J9Q82b2OUQul"
   },
   "source": [
    "# Imports"
   ]
  },
  {
   "cell_type": "code",
   "execution_count": 1,
   "metadata": {
    "id": "FN0td-zMxioA"
   },
   "outputs": [],
   "source": [
    "import csv\n",
    "import numpy as np\n",
    "import matplotlib.pyplot as plt\n",
    "%matplotlib inline\n",
    "\n",
    "from tensorflow.keras.models import Sequential\n",
    "from tensorflow.keras.layers import Dense, Dropout, Activation, Flatten\n",
    "from tensorflow.keras.layers import Conv2D, MaxPooling2D, BatchNormalization\n",
    "from tensorflow.keras.losses import categorical_crossentropy\n",
    "from tensorflow.keras.optimizers import Adam\n",
    "from tensorflow.keras.regularizers import l2\n",
    "from sklearn.model_selection import train_test_split"
   ]
  },
  {
   "cell_type": "code",
   "execution_count": 3,
   "metadata": {
    "id": "I_WxH0dmxkzP"
   },
   "outputs": [],
   "source": [
    "fer2013_dataset_file_path = 'fer2013.csv'"
   ]
  },
  {
   "cell_type": "code",
   "execution_count": 4,
   "metadata": {
    "id": "yWKlKWUmxkw-"
   },
   "outputs": [],
   "source": [
    "train_images = []\n",
    "train_labels = []\n",
    "\n",
    "val_images = []\n",
    "val_labels = []\n",
    "\n",
    "test_images = []\n",
    "test_labels = []\n",
    "\n",
    "with open(fer2013_dataset_file_path) as csv_file:\n",
    "  csv_reader = csv.reader(csv_file, delimiter=',')\n",
    "  for row_id, row in enumerate(csv_reader):\n",
    "    if row_id == 0:\n",
    "      continue\n",
    "    label = np.zeros(7)\n",
    "    label[int(row[0])] = 1\n",
    "\n",
    "    image = list(map(int, row[1].split(' ')))\n",
    "    \n",
    "    if row[2] == 'Training':\n",
    "      train_labels.append(label)\n",
    "      train_images.append(image)\n",
    "    elif row[2] == 'PublicTest':\n",
    "      test_labels.append(label)\n",
    "      test_images.append(image)\n",
    "    elif row[2] == 'PrivateTest':\n",
    "      val_labels.append(label)\n",
    "      val_images.append(image)\n",
    "\n",
    "train_labels = np.asarray(train_labels, dtype=np.float32)\n",
    "train_images = np.asarray(train_images, dtype=np.float32).reshape(-1, 48, 48, 1)\n",
    "\n",
    "val_labels = np.asarray(val_labels, dtype=np.float32)\n",
    "val_images = np.asarray(val_images, dtype=np.float32).reshape(-1, 48, 48, 1)\n",
    "\n",
    "test_labels = np.asarray(test_labels, dtype=np.float32)\n",
    "test_images = np.asarray(test_images, dtype=np.float32).reshape(-1, 48, 48, 1)\n"
   ]
  },
  {
   "cell_type": "code",
   "execution_count": null,
   "metadata": {
    "id": "hgImm0qMlLjK"
   },
   "outputs": [],
   "source": []
  },
  {
   "cell_type": "code",
   "execution_count": 5,
   "metadata": {
    "colab": {
     "base_uri": "https://localhost:8080/"
    },
    "id": "PClDA3PExku0",
    "outputId": "ec33b79a-dedf-493c-88aa-ce84b6226416"
   },
   "outputs": [
    {
     "name": "stdout",
     "output_type": "stream",
     "text": [
      "Train images: (28709, 48, 48, 1)\n",
      "Train labels: (28709, 7)\n",
      "Val images: (3589, 48, 48, 1)\n",
      "Val labels: (3589, 7)\n",
      "Test images: (3589, 48, 48, 1)\n",
      "Test labels: (3589, 7)\n"
     ]
    }
   ],
   "source": [
    "print('Train images:', train_images.shape)\n",
    "print('Train labels:', train_labels.shape)\n",
    "\n",
    "print('Val images:', val_images.shape)\n",
    "print('Val labels:', val_labels.shape)\n",
    "\n",
    "print('Test images:', test_images.shape)\n",
    "print('Test labels:', test_labels.shape)"
   ]
  },
  {
   "cell_type": "code",
   "execution_count": 6,
   "metadata": {
    "id": "y01HTLVFxkri"
   },
   "outputs": [],
   "source": [
    "# normalization\n",
    "train_images /= 255\n",
    "val_images /= 255\n",
    "test_images /= 255"
   ]
  },
  {
   "cell_type": "code",
   "execution_count": null,
   "metadata": {
    "id": "qDVE1HN81u6E"
   },
   "outputs": [],
   "source": []
  },
  {
   "cell_type": "markdown",
   "metadata": {
    "id": "FgZwcqlF1wGm"
   },
   "source": [
    "# Print Data Instance"
   ]
  },
  {
   "cell_type": "code",
   "execution_count": 7,
   "metadata": {
    "id": "FSVn4EiW1yCy"
   },
   "outputs": [],
   "source": [
    "emotions = {\n",
    "    0: 'Angry', \n",
    "    1: 'Disgust',\n",
    "    2: 'Fear', \n",
    "    3: 'Happy',\n",
    "    4: 'Sad', \n",
    "    5: 'Surprise', \n",
    "    6: 'Neutral'\n",
    "}"
   ]
  },
  {
   "cell_type": "code",
   "execution_count": 8,
   "metadata": {
    "colab": {
     "base_uri": "https://localhost:8080/",
     "height": 338
    },
    "id": "GAKK_t2_1yt5",
    "outputId": "2722a191-ed5b-475e-dfb2-8637944483f8"
   },
   "outputs": [
    {
     "name": "stdout",
     "output_type": "stream",
     "text": [
      "Label array: [0. 0. 1. 0. 0. 0. 0.] \n",
      "Label: 2 \n",
      "Emotion: Fear \n",
      "Image shape: (48, 48, 1)\n"
     ]
    },
    {
     "data": {
      "image/png": "[encoded data removed]",
      "text/plain": [
       "<Figure size 432x288 with 1 Axes>"
      ]
     },
     "metadata": {
      "needs_background": "light"
     },
     "output_type": "display_data"
    }
   ],
   "source": [
    "index = 5\n",
    "print('Label array:', train_labels[index], '\\nLabel:', np.argmax(train_labels[index]),\n",
    "      '\\nEmotion:', emotions[np.argmax(train_labels[index])],\n",
    "      '\\nImage shape:', train_images[index].shape)\n",
    "plt.imshow(train_images[index].reshape(48, 48), cmap='gray')\n",
    "plt.show()"
   ]
  },
  {
   "cell_type": "code",
   "execution_count": null,
   "metadata": {
    "id": "ll1MEjIs1y3d"
   },
   "outputs": [],
   "source": []
  },
  {
   "cell_type": "markdown",
   "metadata": {
    "id": "HjvULu3M3A-U"
   },
   "source": [
    "# Prepare Model"
   ]
  },
  {
   "cell_type": "code",
   "execution_count": null,
   "metadata": {
    "id": "ocLFyI9W2_xN"
   },
   "outputs": [],
   "source": []
  },
  {
   "cell_type": "code",
   "execution_count": 9,
   "metadata": {
    "colab": {
     "base_uri": "https://localhost:8080/"
    },
    "id": "y6BJbAyWe-NX",
    "outputId": "5c9429f1-d5d8-4699-bcc6-f8d47fac98d3"
   },
   "outputs": [
    {
     "name": "stdout",
     "output_type": "stream",
     "text": [
      "Model: \"sequential\"\n",
      "_________________________________________________________________\n",
      " Layer (type)                Output Shape              Param #   \n",
      "=================================================================\n",
      " conv2d (Conv2D)             (None, 46, 46, 32)        320       \n",
      "                                                                 \n",
      " conv2d_1 (Conv2D)           (None, 44, 44, 32)        9248      \n",
      "                                                                 \n",
      " batch_normalization (BatchN  (None, 44, 44, 32)       128       \n",
      " ormalization)                                                   \n",
      "                                                                 \n",
      " max_pooling2d (MaxPooling2D  (None, 22, 22, 32)       0         \n",
      " )                                                               \n",
      "                                                                 \n",
      " dropout (Dropout)           (None, 22, 22, 32)        0         \n",
      "                                                                 \n",
      " flatten (Flatten)           (None, 15488)             0         \n",
      "                                                                 \n",
      " dense (Dense)               (None, 1000)              15489000  \n",
      "                                                                 \n",
      " dropout_1 (Dropout)         (None, 1000)              0         \n",
      "                                                                 \n",
      " dense_1 (Dense)             (None, 7)                 7007      \n",
      "                                                                 \n",
      "=================================================================\n",
      "Total params: 15,505,703\n",
      "Trainable params: 15,505,639\n",
      "Non-trainable params: 64\n",
      "_________________________________________________________________\n"
     ]
    }
   ],
   "source": [
    "input_shape = (48, 48, 1)\n",
    "num_labels = 7\n",
    "\n",
    "num_features = 64\n",
    "\n",
    "model = Sequential()\n",
    "\n",
    "model.add(Conv2D(32, kernel_size=(3,3), input_shape=input_shape, activation='relu'))\n",
    "\n",
    "model.add(Conv2D(32, kernel_size=(3,3), activation='relu'))\n",
    "model.add(BatchNormalization())\n",
    "model.add(MaxPooling2D(pool_size=(2, 2), strides=(2, 2)))\n",
    "model.add(Dropout(0.5))\n",
    "\n",
    "model.add(Flatten())\n",
    "\n",
    "model.add(Dense(1000, activation='relu'))\n",
    "model.add(Dropout(0.4))\n",
    "model.add(Dense(num_labels, activation='softmax'))\n",
    "\n",
    "model.summary()"
   ]
  },
  {
   "cell_type": "code",
   "execution_count": 12,
   "metadata": {
    "colab": {
     "base_uri": "https://localhost:8080/"
    },
    "id": "s6hBP7VF2_u9",
    "outputId": "ce1b8e44-26ab-4eb1-8c1b-0695b5a2fd49"
   },
   "outputs": [
    {
     "name": "stdout",
     "output_type": "stream",
     "text": [
      "Epoch 1/10\n",
      "57/57 [==============================] - 4s 69ms/step - loss: 0.5649 - accuracy: 0.8009 - val_loss: 1.4115 - val_accuracy: 0.5071\n",
      "Epoch 2/10\n",
      "57/57 [==============================] - 4s 62ms/step - loss: 0.4731 - accuracy: 0.8357 - val_loss: 1.3139 - val_accuracy: 0.5308\n",
      "Epoch 3/10\n",
      "57/57 [==============================] - 4s 64ms/step - loss: 0.4169 - accuracy: 0.8544 - val_loss: 1.3729 - val_accuracy: 0.5372\n",
      "Epoch 4/10\n",
      "57/57 [==============================] - 4s 63ms/step - loss: 0.3763 - accuracy: 0.8731 - val_loss: 1.4845 - val_accuracy: 0.5344\n",
      "Epoch 5/10\n",
      "57/57 [==============================] - 4s 64ms/step - loss: 0.3448 - accuracy: 0.8832 - val_loss: 1.4115 - val_accuracy: 0.5249\n",
      "Epoch 6/10\n",
      "57/57 [==============================] - 4s 63ms/step - loss: 0.3136 - accuracy: 0.8933 - val_loss: 1.5957 - val_accuracy: 0.5386\n",
      "Epoch 7/10\n",
      "57/57 [==============================] - 4s 63ms/step - loss: 0.2957 - accuracy: 0.8981 - val_loss: 1.4552 - val_accuracy: 0.5456\n",
      "Epoch 8/10\n",
      "57/57 [==============================] - 4s 64ms/step - loss: 0.2783 - accuracy: 0.9084 - val_loss: 1.5815 - val_accuracy: 0.5433\n",
      "Epoch 9/10\n",
      "57/57 [==============================] - 4s 64ms/step - loss: 0.2494 - accuracy: 0.9154 - val_loss: 1.5850 - val_accuracy: 0.5444\n",
      "Epoch 10/10\n",
      "57/57 [==============================] - 4s 66ms/step - loss: 0.2357 - accuracy: 0.9207 - val_loss: 1.4878 - val_accuracy: 0.5202\n"
     ]
    }
   ],
   "source": [
    "batch_size = 512\n",
    "epochs = 10\n",
    "\n",
    "#Compliling the model with adam optimixer and categorical crossentropy loss\n",
    "model.compile(loss=categorical_crossentropy,\n",
    "              optimizer=Adam(learning_rate=0.001, beta_1=0.9, beta_2=0.999, epsilon=1e-7),\n",
    "              metrics=['accuracy'])\n",
    "\n",
    "#training the model\n",
    "train_history = model.fit(\n",
    "    train_images, train_labels, \n",
    "    batch_size=batch_size, \n",
    "    epochs=epochs, \n",
    "    validation_data=(val_images, val_labels), \n",
    "    verbose=1)"
   ]
  },
  {
   "cell_type": "code",
   "execution_count": 13,
   "metadata": {
    "colab": {
     "base_uri": "https://localhost:8080/"
    },
    "id": "Tsxo1EzP2_tB",
    "outputId": "489a9636-702b-4189-96a1-86ecb9584524"
   },
   "outputs": [
    {
     "name": "stdout",
     "output_type": "stream",
     "text": [
      "113/113 [==============================] - 1s 5ms/step - loss: 1.4752 - accuracy: 0.5132\n",
      "Loss: 1.4752197265625 \n",
      "Accuracy: 51.32349133491516 %\n"
     ]
    }
   ],
   "source": [
    "loss, accuracy = model.evaluate(test_images, test_labels, verbose=1)\n",
    "print('Loss:', loss, '\\nAccuracy:', accuracy * 100, '%')"
   ]
  },
  {
   "cell_type": "code",
   "execution_count": null,
   "metadata": {
    "id": "oSO1qbJi2_q5"
   },
   "outputs": [],
   "source": []
  },
  {
   "cell_type": "code",
   "execution_count": null,
   "metadata": {
    "id": "A74vFZlq2_oa"
   },
   "outputs": [],
   "source": []
  },
  {
   "cell_type": "code",
   "execution_count": null,
   "metadata": {
    "id": "9T8_Seee2_kL"
   },
   "outputs": [],
   "source": []
  },
  {
   "cell_type": "code",
   "execution_count": null,
   "metadata": {
    "id": "jX4-qyPt1yzL"
   },
   "outputs": [],
   "source": []
  }
 ],
 "metadata": {
  "accelerator": "GPU",
  "colab": {
   "collapsed_sections": [],
   "name": "Face Emotions Classification Sample Code.ipynb",
   "provenance": []
  },
  "kernelspec": {
   "display_name": "Python 3 (ipykernel)",
   "language": "python",
   "name": "python3"
  },
  "language_info": {
   "codemirror_mode": {
    "name": "ipython",
    "version": 3
   },
   "file_extension": ".py",
   "mimetype": "text/x-python",
   "name": "python",
   "nbconvert_exporter": "python",
   "pygments_lexer": "ipython3",
   "version": "3.9.7"
  }
 },
 "nbformat": 4,
 "nbformat_minor": 1
}
